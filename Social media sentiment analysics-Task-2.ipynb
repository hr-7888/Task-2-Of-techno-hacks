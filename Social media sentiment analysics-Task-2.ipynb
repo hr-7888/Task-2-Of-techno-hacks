{
 "cells": [
  {
   "cell_type": "markdown",
   "id": "f890e70d",
   "metadata": {},
   "source": [
    "**1 Sentimental analysis using NLTK-ML-Task-2**"
   ]
  },
  {
   "cell_type": "markdown",
   "id": "75e2062f",
   "metadata": {},
   "source": [
    " '''Sentiment analysis, also known as opinion mining, is the process of using␣\n",
    "↪natural language processing (NLP) techniques\n",
    "to determine the sentiment or emotional tone expressed in text data.\n",
    "When applied to social media data, sentiment analysis can provide valuable␣\n",
    "↪insights into public opinion, customer feedback,\n",
    "brand perception, and more. Here's a brief overview of sentiment analysis using␣\n",
    "↪social media data:\n",
    "'''"
   ]
  },
  {
   "cell_type": "markdown",
   "id": "f23700d0",
   "metadata": {},
   "source": [
    "'''Use a dataset of tweets or Facebook posts and\n",
    "perform sentiment analysis to determine the\n",
    "overall sentiment of the posts.'''"
   ]
  },
  {
   "cell_type": "code",
   "execution_count": 1,
   "id": "a04efd12",
   "metadata": {},
   "outputs": [],
   "source": [
    "import nltk"
   ]
  },
  {
   "cell_type": "code",
   "execution_count": 2,
   "id": "e9a0ef89",
   "metadata": {},
   "outputs": [
    {
     "name": "stderr",
     "output_type": "stream",
     "text": [
      "[nltk_data] Downloading package stopwords to\n",
      "[nltk_data]     C:\\Users\\DELL\\AppData\\Roaming\\nltk_data...\n",
      "[nltk_data]   Package stopwords is already up-to-date!\n"
     ]
    },
    {
     "data": {
      "text/plain": [
       "True"
      ]
     },
     "execution_count": 2,
     "metadata": {},
     "output_type": "execute_result"
    }
   ],
   "source": [
    "nltk.download('stopwords')"
   ]
  },
  {
   "cell_type": "code",
   "execution_count": 3,
   "id": "5a359dc3",
   "metadata": {},
   "outputs": [
    {
     "ename": "ModuleNotFoundError",
     "evalue": "No module named 'vaderSentiment'",
     "output_type": "error",
     "traceback": [
      "\u001b[1;31m---------------------------------------------------------------------------\u001b[0m",
      "\u001b[1;31mModuleNotFoundError\u001b[0m                       Traceback (most recent call last)",
      "Cell \u001b[1;32mIn[3], line 12\u001b[0m\n\u001b[0;32m     10\u001b[0m \u001b[38;5;28;01mimport\u001b[39;00m \u001b[38;5;21;01mseaborn\u001b[39;00m \u001b[38;5;28;01mas\u001b[39;00m \u001b[38;5;21;01msns\u001b[39;00m\n\u001b[0;32m     11\u001b[0m \u001b[38;5;28;01mfrom\u001b[39;00m \u001b[38;5;21;01mwordcloud\u001b[39;00m \u001b[38;5;28;01mimport\u001b[39;00m WordCloud\n\u001b[1;32m---> 12\u001b[0m \u001b[38;5;28;01mfrom\u001b[39;00m \u001b[38;5;21;01mvaderSentiment\u001b[39;00m\u001b[38;5;21;01m.\u001b[39;00m\u001b[38;5;21;01mvaderSentiment\u001b[39;00m \u001b[38;5;28;01mimport\u001b[39;00m SentimentIntensityAnalyzer\n",
      "\u001b[1;31mModuleNotFoundError\u001b[0m: No module named 'vaderSentiment'"
     ]
    }
   ],
   "source": [
    "import numpy as np\n",
    "import pandas as pd\n",
    "import string\n",
    "import nltk\n",
    "from nltk.corpus import stopwords\n",
    "from nltk import PorterStemmer\n",
    "import string\n",
    "import re\n",
    "import matplotlib.pyplot as plt\n",
    "import seaborn as sns\n",
    "from wordcloud import WordCloud\n",
    "from vaderSentiment.vaderSentiment import SentimentIntensityAnalyzer"
   ]
  },
  {
   "cell_type": "markdown",
   "id": "a8d1196b",
   "metadata": {},
   "source": [
    "**Read the data**"
   ]
  },
  {
   "cell_type": "code",
   "execution_count": null,
   "id": "24314348",
   "metadata": {},
   "outputs": [],
   "source": [
    "df=pd.read_csv('Tweets.csv')\n",
    "df"
   ]
  },
  {
   "cell_type": "code",
   "execution_count": null,
   "id": "a0cb6837",
   "metadata": {},
   "outputs": [],
   "source": [
    "df.head(10)"
   ]
  },
  {
   "cell_type": "code",
   "execution_count": null,
   "id": "66f31c1f",
   "metadata": {},
   "outputs": [],
   "source": [
    "df.columns"
   ]
  },
  {
   "cell_type": "code",
   "execution_count": null,
   "id": "51591879",
   "metadata": {},
   "outputs": [],
   "source": [
    "df.info()"
   ]
  },
  {
   "cell_type": "code",
   "execution_count": null,
   "id": "580fcfdd",
   "metadata": {},
   "outputs": [],
   "source": [
    "df.dtypes"
   ]
  },
  {
   "cell_type": "code",
   "execution_count": null,
   "id": "5982d9d6",
   "metadata": {},
   "outputs": [],
   "source": [
    "df.shape"
   ]
  },
  {
   "cell_type": "code",
   "execution_count": null,
   "id": "e015f130",
   "metadata": {},
   "outputs": [],
   "source": [
    "df.isnull().sum()"
   ]
  },
  {
   "cell_type": "code",
   "execution_count": null,
   "id": "2603ed51",
   "metadata": {},
   "outputs": [],
   "source": [
    "df['airline_sentiment_gold'].unique()"
   ]
  },
  {
   "cell_type": "code",
   "execution_count": null,
   "id": "12c97cd4",
   "metadata": {},
   "outputs": [],
   "source": [
    "df['negativereason'].unique()"
   ]
  },
  {
   "cell_type": "code",
   "execution_count": null,
   "id": "50ad72b6",
   "metadata": {},
   "outputs": [],
   "source": [
    "df.drop('negativereason',axis=1,inplace=True)"
   ]
  },
  {
   "cell_type": "code",
   "execution_count": null,
   "id": "3ff52a5a",
   "metadata": {},
   "outputs": [],
   "source": [
    "cols=['airline_sentiment_gold','tweet_coord','negativereason_confidence']\n",
    "df.drop(cols,axis=1,inplace=True)"
   ]
  },
  {
   "cell_type": "code",
   "execution_count": null,
   "id": "6e2f910b",
   "metadata": {},
   "outputs": [],
   "source": [
    "df"
   ]
  },
  {
   "cell_type": "code",
   "execution_count": null,
   "id": "3f48ecbe",
   "metadata": {},
   "outputs": [],
   "source": [
    "df.isnull().sum()"
   ]
  },
  {
   "cell_type": "code",
   "execution_count": null,
   "id": "ca846147",
   "metadata": {},
   "outputs": [],
   "source": [
    "df.drop('negativereason_gold',axis=1,inplace=True)"
   ]
  },
  {
   "cell_type": "code",
   "execution_count": null,
   "id": "f14b89dc",
   "metadata": {},
   "outputs": [],
   "source": [
    "cols1=['tweet_location','user_timezone']\n",
    "df.drop(cols1,axis=1,inplace=True)"
   ]
  },
  {
   "cell_type": "code",
   "execution_count": null,
   "id": "d5eeea4e",
   "metadata": {},
   "outputs": [],
   "source": [
    "df.isnull().sum()"
   ]
  },
  {
   "cell_type": "code",
   "execution_count": null,
   "id": "beb9d1e0",
   "metadata": {},
   "outputs": [],
   "source": [
    "display(df.shape)\n",
    "display(df.info())"
   ]
  },
  {
   "cell_type": "code",
   "execution_count": null,
   "id": "00f11d29",
   "metadata": {},
   "outputs": [],
   "source": [
    "df = df[['airline_sentiment','text']]\n",
    "df"
   ]
  },
  {
   "cell_type": "code",
   "execution_count": null,
   "id": "ecfa1e2d",
   "metadata": {},
   "outputs": [],
   "source": [
    "sns.countplot(data=df,x='airline_sentiment')\n",
    "plt.title('Graph-1-Airline Sentiment Distribution')"
   ]
  },
  {
   "cell_type": "code",
   "execution_count": null,
   "id": "cbc0179b",
   "metadata": {},
   "outputs": [],
   "source": [
    "df['count_word'] = df['text'].apply(lambda x : len(x.split(' ')))\n",
    "sns.histplot(data = df , x='count_word',kde=True)\n",
    "plt.title('Graph-2-Number de Word Distribution without any Cleaning Task')\n",
    "plt.show()"
   ]
  },
  {
   "cell_type": "code",
   "execution_count": null,
   "id": "dbb9cbe6",
   "metadata": {},
   "outputs": [],
   "source": [
    "sns.histplot(data = df , x='count_word',hue='airline_sentiment',alpha=0.6,kde=True)\n",
    "plt.title('Graph-3-Number de Word Distribution without any Cleaning Task')\n",
    "plt.show()"
   ]
  },
  {
   "cell_type": "code",
   "execution_count": null,
   "id": "8215c779",
   "metadata": {},
   "outputs": [],
   "source": [
    "sns.boxplot(data = df , y='count_word',x='airline_sentiment')\n",
    "plt.title('Graph-3(1)=Boxplot Number of Word Across Tweets Categories')\n",
    "plt.show()"
   ]
  },
  {
   "cell_type": "code",
   "execution_count": null,
   "id": "c5835758",
   "metadata": {},
   "outputs": [],
   "source": [
    "df.loc[np.logical_or(df['count_word']>35,df['count_word']<=5),:]"
   ]
  },
  {
   "cell_type": "markdown",
   "id": "7834ea20",
   "metadata": {},
   "source": [
    "**Preprocessing the Data**"
   ]
  },
  {
   "cell_type": "code",
   "execution_count": null,
   "id": "899927ff",
   "metadata": {},
   "outputs": [],
   "source": [
    "import re\n",
    "from nltk.corpus import stopwords\n",
    "from nltk.stem import PorterStemmer\n",
    "from nltk.tokenize import word_tokenize"
   ]
  },
  {
   "cell_type": "code",
   "execution_count": null,
   "id": "9761d6a9",
   "metadata": {},
   "outputs": [],
   "source": [
    "# punctuation Removal\n",
    "def remove_punctuation(text):\n",
    "    return re.sub(r'[^\\w\\s]','',text)\n",
    "#stopword removal\n",
    "def remove_stopwords(text):\n",
    "    stop_words = set(stopwords.words('english'))\n",
    "    tokens = word_tokenize(text)\n",
    "    filter_tokens = [word for word in tokens if word.lower() not in stop_words]\n",
    "    return \" \".join(filter_tokens)\n",
    "#remove numeric\n",
    "def remove_numeric(text):\n",
    "    return re.sub(r'\\d+','',text)\n",
    "#Stemming\n",
    "def apply_stemming(text):\n",
    "    stemmer = PorterStemmer()\n",
    "    tokens = word_tokenize(text)\n",
    "    stemmed_tokens = [stemmer.stem(word) for word in tokens]\n",
    "    return \" \".join(stemmed_tokens)\n",
    "def remove_mentions(text):\n",
    "    return re.sub(r'@\\w+','',text)"
   ]
  },
  {
   "cell_type": "code",
   "execution_count": null,
   "id": "d6cd4f6a",
   "metadata": {},
   "outputs": [],
   "source": [
    "import nltk\n",
    "nltk.download('punkt')\n",
    "from nltk.tokenize import word_tokenize\n",
    "from nltk.stem import PorterStemmer\n",
    "def apply_stemming(text):\n",
    "    stemmer = PorterStemmer()\n",
    "    tokens = word_tokenize(text)\n",
    "    stemmed_tokens = [stemmer.stem(word) for word in tokens]\n",
    "    return \" \".join(stemmed_tokens)\n",
    "input_text = \"walking throw the street, a passenger walked toward me, talking␣about a walked chicken on the streets\"\n",
    "stemmed_text = apply_stemming(input_text)\n",
    "print(stemmed_text)"
   ]
  },
  {
   "cell_type": "code",
   "execution_count": null,
   "id": "5894131b",
   "metadata": {},
   "outputs": [],
   "source": [
    "apply_stemming('walking throw the street , a passenger walked toward me talking about a walked chicken on the streets')"
   ]
  },
  {
   "cell_type": "code",
   "execution_count": null,
   "id": "9081520f",
   "metadata": {},
   "outputs": [],
   "source": [
    "def text_preprocessing(text):\n",
    "    sentence = remove_mentions(text)\n",
    "    sentence = remove_punctuation(sentence)\n",
    "    sentence = remove_stopwords(sentence)\n",
    "    sentence = remove_numeric(sentence)\n",
    "    sentence = apply_stemming(sentence)\n",
    "    return sentence"
   ]
  },
  {
   "cell_type": "code",
   "execution_count": null,
   "id": "800895ff",
   "metadata": {},
   "outputs": [],
   "source": [
    "text_preprocessing('walking throw the street , a passenger walked toward me␣,talking about a walked chicken on the streets')\n"
   ]
  },
  {
   "cell_type": "code",
   "execution_count": null,
   "id": "b961faec",
   "metadata": {},
   "outputs": [],
   "source": [
    "df.loc[:,'new_text'] = df['text'].apply(lambda x : text_preprocessing(x))"
   ]
  },
  {
   "cell_type": "code",
   "execution_count": null,
   "id": "b5a1aadd",
   "metadata": {},
   "outputs": [],
   "source": [
    "df.loc[:,'new_count_word'] = df['new_text'].apply(lambda x : len(x.split(' ')))\n",
    "sns.histplot(data = df , x='new_count_word',kde=True)\n",
    "plt.title('Graph-5-Number of Word Distribution after Cleaning Task')\n",
    "plt.show()"
   ]
  },
  {
   "cell_type": "code",
   "execution_count": null,
   "id": "a9184a60",
   "metadata": {},
   "outputs": [],
   "source": [
    "sns.countplot(data=df,x='airline_sentiment')\n",
    "plt.title('Graph-1(a)-Airline Sentiment Distribution-after cleaning the data')\n",
    "plt.show()"
   ]
  },
  {
   "cell_type": "code",
   "execution_count": null,
   "id": "78d17195",
   "metadata": {},
   "outputs": [],
   "source": [
    "sns.histplot(data = df , x='count_word',hue='airline_sentiment',alpha=0.9,kde=True)\n",
    "plt.title('Graph-3-Number de Word Distribution after Cleaning Task')\n",
    "plt.show()"
   ]
  },
  {
   "cell_type": "code",
   "execution_count": null,
   "id": "263fa33c",
   "metadata": {},
   "outputs": [],
   "source": []
  }
 ],
 "metadata": {
  "kernelspec": {
   "display_name": "Python 3 (ipykernel)",
   "language": "python",
   "name": "python3"
  },
  "language_info": {
   "codemirror_mode": {
    "name": "ipython",
    "version": 3
   },
   "file_extension": ".py",
   "mimetype": "text/x-python",
   "name": "python",
   "nbconvert_exporter": "python",
   "pygments_lexer": "ipython3",
   "version": "3.9.18"
  }
 },
 "nbformat": 4,
 "nbformat_minor": 5
}
